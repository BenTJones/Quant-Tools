{
 "cells": [
  {
   "cell_type": "markdown",
   "id": "7b78e080",
   "metadata": {},
   "source": [
    "Testing Notebook \n",
    "All testing scripts were given by generative AI"
   ]
  },
  {
   "cell_type": "markdown",
   "id": "e785bc4e",
   "metadata": {},
   "source": [
    "0. Set up of notebook"
   ]
  },
  {
   "cell_type": "code",
   "execution_count": null,
   "id": "c2216f46",
   "metadata": {},
   "outputs": [],
   "source": [
    "%cd ..\n",
    "%load_ext autoreload\n",
    "%autoreload 2"
   ]
  },
  {
   "cell_type": "markdown",
   "id": "610746d5",
   "metadata": {},
   "source": [
    "1. data_loader.py testing"
   ]
  },
  {
   "cell_type": "code",
   "execution_count": null,
   "id": "bb1422f6",
   "metadata": {},
   "outputs": [],
   "source": [
    "from quant_tools.data_loader import get_data\n",
    "df = get_data(\"AAPL\", \"2020-01-01\", \"2020-06-01\")\n",
    "print(df.head())"
   ]
  },
  {
   "cell_type": "markdown",
   "id": "deb01f7c",
   "metadata": {},
   "source": [
    "2. Analysis.py Testing"
   ]
  },
  {
   "cell_type": "code",
   "execution_count": null,
   "id": "8982b31d",
   "metadata": {},
   "outputs": [],
   "source": [
    "import quant_tools.analysis as qa\n",
    "import pandas as pd\n",
    "\n",
    "close = prices = pd.Series(\n",
    "    [100, 110, 105, 120],\n",
    "    index=pd.date_range(\"2020-01-01\", periods=4)\n",
    ")\n",
    "\n",
    "log_rets = qa.calculate_log_returns(close)\n",
    "simp_rets = qa.calculate_returns(close)\n",
    "\n",
    "ema20 = qa.calculate_moving_avg(close, 20)\n",
    "\n",
    "vol = qa.calculate_volatility(log_rets)\n",
    "sharpe = qa.calculate_sharpe_ratio(log_rets, risk_free=0.02)\n",
    "mdd = qa.calculate_drawdown(close)\n",
    "\n",
    "print(log_rets,simp_rets,ema20,vol,sharpe,mdd)"
   ]
  },
  {
   "cell_type": "code",
   "execution_count": null,
   "id": "aa4d0566",
   "metadata": {},
   "outputs": [],
   "source": [
    "simp = pd.Series([0.1, -0.05, 0.142857], index=pd.date_range(\"2020-01-02\", periods=3))\n",
    "\n",
    "print(\"CumRet:\", qa.cum_returns(simp))                \n",
    "print(\"CAGR:\", qa.cagr(simp, periods_per_year=3))            \n",
    "\n",
    "print(\"Sortino:\", qa.sortino_ratio(simp))                    \n",
    "print(\"Calmar:\", qa.calmar_ratio(simp, periods_per_year=3))  \n",
    "\n",
    "print(\"VaR 5% hist:\", qa.VaR_calc(simp, 0.05))          \n",
    "print(\"ES 5% hist:\", qa.expected_shortfall(simp, 0.05))      "
   ]
  },
  {
   "cell_type": "markdown",
   "id": "a76fc198",
   "metadata": {},
   "source": [
    "3. Testing Pricing, simulations, backtester and greeks functions"
   ]
  },
  {
   "cell_type": "code",
   "execution_count": null,
   "id": "9aacdc71",
   "metadata": {},
   "outputs": [],
   "source": [
    "# %% [markdown]\n",
    "# # Sanity‑Check: Simulations, Pricing, Greeks & Backtester (MovingAverage)\n",
    "\n",
    "# %% code\n",
    "import numpy as np\n",
    "import pandas as pd\n",
    "import matplotlib.pyplot as plt\n",
    "\n",
    "from quant_tools.simulations  import sim_rand_walk, gbm\n",
    "from quant_tools.pricing      import mc_european_call\n",
    "from quant_tools.greeks       import greeks_estimate\n",
    "from quant_tools.data_loader  import get_data\n",
    "from quant_tools.backtester   import Backtester, MovingAverage\n",
    "from quant_tools.analysis     import (\n",
    "    calculate_log_returns,\n",
    "    calculate_sharpe_ratio,\n",
    "    calculate_drawdown,\n",
    "    calculate_moving_avg\n",
    ")\n",
    "\n",
    "print(\"=== 1) SIMULATION TESTS ===\")\n",
    "\n",
    "# 1a) Random walk: Series of length n_steps+1\n",
    "rw = sim_rand_walk(s0=0.0, sigma=1.0, n_steps=100, dt=1.0)\n",
    "assert isinstance(rw, pd.Series), \"sim_rand_walk must return a pandas Series\"\n",
    "assert len(rw) == 101, f\"Expected 101 points, got {len(rw)}\"\n",
    "print(\" • sim_rand_walk OK\")\n",
    "\n",
    "# 1b) GBM single–path\n",
    "gbm1 = gbm(s0=100, mu=0.05, sigma=0.2, n_steps=100, dt=1/252, n_paths=1)\n",
    "assert isinstance(gbm1, pd.DataFrame) and gbm1.shape == (101, 1)\n",
    "print(\" • GBM single‑path OK\")\n",
    "\n",
    "# 1c) GBM multi‑path\n",
    "gbm5 = gbm(s0=100, mu=0.05, sigma=0.2, n_steps=100, dt=1/252, n_paths=5)\n",
    "assert isinstance(gbm5, pd.DataFrame) and gbm5.shape == (101, 5)\n",
    "print(\" • GBM multi‑path OK\\n\")\n",
    "\n",
    "\n",
    "print(\"=== 2) PRICER & GREEKS TESTS ===\")\n",
    "\n",
    "params = dict(\n",
    "    s0=100.0, K=100.0, r=0.01,\n",
    "    sigma=0.2, T=1.0,\n",
    "    n_steps=252, n_paths=75_000\n",
    ")\n",
    "\n",
    "price = mc_european_call(**params)\n",
    "delta = greeks_estimate(\"delta\", bump=1e-2, **params)\n",
    "vega  = greeks_estimate(\"vega\",  bump=1e-2, **params)\n",
    "theta = greeks_estimate(\"theta\", bump=1/252, **params)\n",
    "\n",
    "print(f\" • Call price ≈ {price:.4f}\")\n",
    "print(f\" • Δ = {delta:.4f}, Vega = {vega:.4f}, Θ = {theta:.4f}\")\n",
    "\n",
    "assert delta > 0, \"Delta should be positive\"\n",
    "assert vega  > 0, \"Vega should be positive\"\n",
    "assert theta < 0, \"Theta should be negative\"\n",
    "print(\" • Pricer & Greeks OK\\n\")\n",
    "\n",
    "print(\"=== 3) BACKTESTER (MovingAverage) ===\")\n",
    "tickers = [\"AAPL\",'MSFT']\n",
    "df_raw = get_data(tickers, \"2021-01-01\", \"2021-12-31\")\n",
    "df = df_raw\n",
    "\n",
    "strat  = MovingAverage(short_win=20, long_win=50)\n",
    "bt  = Backtester(data=df, strategy=strat, initial_cash=100_000)\n",
    "equity = bt.run()\n",
    "\n",
    "# plot equity curve\n",
    "equity.plot(title=\"MA(20,50) Equity Curve\")\n",
    "plt.show()\n",
    "\n",
    "    # compute performance metrics\n",
    "rets = calculate_log_returns(equity)\n",
    "shp  = calculate_sharpe_ratio(rets)\n",
    "mdd  = calculate_drawdown(equity)\n",
    "\n",
    "print(f\" • Backtest Sharpe Ratio = {shp:.3f}\")\n",
    "print(f\" • Max Drawdown    = {mdd:.2%}\")\n",
    "\n",
    "assert isinstance(shp, float)\n",
    "assert isinstance(mdd, float)\n",
    "print(\" • Backtester OK\\n\")"
   ]
  }
 ],
 "metadata": {
  "kernelspec": {
   "display_name": ".venv (3.12.7)",
   "language": "python",
   "name": "python3"
  },
  "language_info": {
   "codemirror_mode": {
    "name": "ipython",
    "version": 3
   },
   "file_extension": ".py",
   "mimetype": "text/x-python",
   "name": "python",
   "nbconvert_exporter": "python",
   "pygments_lexer": "ipython3",
   "version": "3.12.7"
  }
 },
 "nbformat": 4,
 "nbformat_minor": 5
}
