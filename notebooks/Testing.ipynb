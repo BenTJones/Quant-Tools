{
 "cells": [
  {
   "cell_type": "markdown",
   "id": "7b78e080",
   "metadata": {},
   "source": [
    "Testing Notebook "
   ]
  },
  {
   "cell_type": "markdown",
   "id": "610746d5",
   "metadata": {},
   "source": [
    "data_loader.py testing"
   ]
  },
  {
   "cell_type": "code",
   "execution_count": 1,
   "id": "bb1422f6",
   "metadata": {},
   "outputs": [
    {
     "name": "stdout",
     "output_type": "stream",
     "text": [
      "Price              Adj Close      Close       High        Low       Open  \\\n",
      "Ticker                  AAPL       AAPL       AAPL       AAPL       AAPL   \n",
      "Date       Ticker                                                          \n",
      "2020-01-02 AAPL    72.620834  75.087502  75.150002  73.797501  74.059998   \n",
      "2020-01-03 AAPL    71.914810  74.357498  75.144997  74.125000  74.287498   \n",
      "2020-01-06 AAPL    72.487823  74.949997  74.989998  73.187500  73.447502   \n",
      "2020-01-07 AAPL    72.146942  74.597504  75.224998  74.370003  74.959999   \n",
      "2020-01-08 AAPL    73.307518  75.797501  76.110001  74.290001  74.290001   \n",
      "\n",
      "Price                 Volume  \n",
      "Ticker                  AAPL  \n",
      "Date       Ticker             \n",
      "2020-01-02 AAPL    135480400  \n",
      "2020-01-03 AAPL    146322800  \n",
      "2020-01-06 AAPL    118387200  \n",
      "2020-01-07 AAPL    108872000  \n",
      "2020-01-08 AAPL    132079200  \n"
     ]
    }
   ],
   "source": [
    "from quant_tools.data_loader import get_data\n",
    "df = get_data(\"AAPL\", \"2020-01-01\", \"2020-06-01\")\n",
    "print(df.head())"
   ]
  }
 ],
 "metadata": {
  "kernelspec": {
   "display_name": ".venv (3.12.7)",
   "language": "python",
   "name": "python3"
  },
  "language_info": {
   "codemirror_mode": {
    "name": "ipython",
    "version": 3
   },
   "file_extension": ".py",
   "mimetype": "text/x-python",
   "name": "python",
   "nbconvert_exporter": "python",
   "pygments_lexer": "ipython3",
   "version": "3.12.7"
  }
 },
 "nbformat": 4,
 "nbformat_minor": 5
}
