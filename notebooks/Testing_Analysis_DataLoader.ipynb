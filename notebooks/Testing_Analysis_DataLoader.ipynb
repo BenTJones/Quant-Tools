{
 "cells": [
  {
   "cell_type": "markdown",
   "id": "7b78e080",
   "metadata": {},
   "source": [
    "Testing Notebook "
   ]
  },
  {
   "cell_type": "markdown",
   "id": "e785bc4e",
   "metadata": {},
   "source": [
    "0. Set up of notebook"
   ]
  },
  {
   "cell_type": "code",
   "execution_count": 9,
   "id": "c2216f46",
   "metadata": {},
   "outputs": [
    {
     "name": "stdout",
     "output_type": "stream",
     "text": [
      "c:\\Users\\benjo\\OneDrive\\Documents\n",
      "The autoreload extension is already loaded. To reload it, use:\n",
      "  %reload_ext autoreload\n"
     ]
    }
   ],
   "source": [
    "%cd ..\n",
    "%load_ext autoreload\n",
    "%autoreload 2"
   ]
  },
  {
   "cell_type": "markdown",
   "id": "610746d5",
   "metadata": {},
   "source": [
    "1. data_loader.py testing"
   ]
  },
  {
   "cell_type": "code",
   "execution_count": 10,
   "id": "bb1422f6",
   "metadata": {},
   "outputs": [
    {
     "name": "stdout",
     "output_type": "stream",
     "text": [
      "Price              Adj Close      Close       High        Low       Open  \\\n",
      "Ticker                  AAPL       AAPL       AAPL       AAPL       AAPL   \n",
      "Date       Ticker                                                          \n",
      "2020-01-02 AAPL    72.620842  75.087502  75.150002  73.797501  74.059998   \n",
      "2020-01-03 AAPL    71.914818  74.357498  75.144997  74.125000  74.287498   \n",
      "2020-01-06 AAPL    72.487854  74.949997  74.989998  73.187500  73.447502   \n",
      "2020-01-07 AAPL    72.146935  74.597504  75.224998  74.370003  74.959999   \n",
      "2020-01-08 AAPL    73.307503  75.797501  76.110001  74.290001  74.290001   \n",
      "\n",
      "Price                 Volume  \n",
      "Ticker                  AAPL  \n",
      "Date       Ticker             \n",
      "2020-01-02 AAPL    135480400  \n",
      "2020-01-03 AAPL    146322800  \n",
      "2020-01-06 AAPL    118387200  \n",
      "2020-01-07 AAPL    108872000  \n",
      "2020-01-08 AAPL    132079200  \n"
     ]
    }
   ],
   "source": [
    "from quant_tools.data_loader import get_data\n",
    "df = get_data(\"AAPL\", \"2020-01-01\", \"2020-06-01\")\n",
    "print(df.head())"
   ]
  },
  {
   "cell_type": "markdown",
   "id": "deb01f7c",
   "metadata": {},
   "source": [
    "2. Analysis.py Testing"
   ]
  },
  {
   "cell_type": "code",
   "execution_count": 11,
   "id": "8982b31d",
   "metadata": {},
   "outputs": [
    {
     "name": "stdout",
     "output_type": "stream",
     "text": [
      "2020-01-02    0.095310\n",
      "2020-01-03   -0.046520\n",
      "2020-01-04    0.133531\n",
      "Freq: D, dtype: float64 2020-01-02    0.100000\n",
      "2020-01-03   -0.045455\n",
      "2020-01-04    0.142857\n",
      "Freq: D, dtype: float64 2020-01-01    100.000000\n",
      "2020-01-02    100.952381\n",
      "2020-01-03    101.337868\n",
      "2020-01-04    103.115214\n",
      "Freq: D, dtype: float64 1.5059207657399618 10.156584010697738 -0.045454545454545414\n"
     ]
    }
   ],
   "source": [
    "import quant_tools.analysis as qa\n",
    "import pandas as pd\n",
    "\n",
    "close = prices = pd.Series(\n",
    "    [100, 110, 105, 120],\n",
    "    index=pd.date_range(\"2020-01-01\", periods=4)\n",
    ")\n",
    "\n",
    "log_rets = qa.calculate_log_returns(close)\n",
    "simp_rets = qa.calculate_returns(close)\n",
    "\n",
    "ema20 = qa.calculate_moving_avg(close, 20)\n",
    "\n",
    "vol = qa.calculate_volatility(log_rets)\n",
    "sharpe = qa.calculate_sharpe_ratio(log_rets, risk_free=0.02)\n",
    "mdd = qa.calculate_drawdown(close)\n",
    "\n",
    "print(log_rets,simp_rets,ema20,vol,sharpe,mdd)"
   ]
  },
  {
   "cell_type": "code",
   "execution_count": 12,
   "id": "aa4d0566",
   "metadata": {},
   "outputs": [
    {
     "name": "stdout",
     "output_type": "stream",
     "text": [
      "CumRet: 0.19428556499999994\n",
      "CAGR: 0.19428556499999994\n",
      "Sortino: 20.41006642391935\n",
      "Calmar: 3.8857112999999868\n",
      "VaR 5% hist: -0.035\n",
      "ES 5% hist: -0.05\n"
     ]
    }
   ],
   "source": [
    "simp = pd.Series([0.1, -0.05, 0.142857], index=pd.date_range(\"2020-01-02\", periods=3))\n",
    "\n",
    "print(\"CumRet:\", qa.cum_returns(simp))                \n",
    "print(\"CAGR:\", qa.cagr(simp, periods_per_year=3))            \n",
    "\n",
    "print(\"Sortino:\", qa.sortino_ratio(simp))                    \n",
    "print(\"Calmar:\", qa.calmar_ratio(simp, periods_per_year=3))  \n",
    "\n",
    "print(\"VaR 5% hist:\", qa.VaR_calc(simp, 0.05))          \n",
    "print(\"ES 5% hist:\", qa.expected_shortfall(simp, 0.05))      "
   ]
  }
 ],
 "metadata": {
  "kernelspec": {
   "display_name": ".venv (3.12.7)",
   "language": "python",
   "name": "python3"
  },
  "language_info": {
   "codemirror_mode": {
    "name": "ipython",
    "version": 3
   },
   "file_extension": ".py",
   "mimetype": "text/x-python",
   "name": "python",
   "nbconvert_exporter": "python",
   "pygments_lexer": "ipython3",
   "version": "3.12.7"
  }
 },
 "nbformat": 4,
 "nbformat_minor": 5
}
